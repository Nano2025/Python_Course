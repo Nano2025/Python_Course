{
  "nbformat": 4,
  "nbformat_minor": 0,
  "metadata": {
    "colab": {
      "provenance": []
    },
    "kernelspec": {
      "name": "python3",
      "display_name": "Python 3"
    },
    "language_info": {
      "name": "python"
    }
  },
  "cells": [
    {
      "cell_type": "code",
      "execution_count": null,
      "metadata": {
        "id": "yNcaaG6kSYl8"
      },
      "outputs": [],
      "source": [
        "\n",
        "#T.1.Get the keys from the dictionaries named sample_dic as a list\n",
        "\n",
        "sample_dict = {\n",
        "    'Physics': 82,\n",
        "    'Math': 65,\n",
        "    'history': 75\n",
        "}"
      ]
    },
    {
      "cell_type": "code",
      "source": [
        "sample_dict = {\n",
        "    'Physics': 82,\n",
        "    'Math': 65,\n",
        "    'history': 75\n",
        "}\n",
        "keys_list = list(sample_dict.keys())\n",
        "print(keys_list)\n"
      ],
      "metadata": {
        "colab": {
          "base_uri": "https://localhost:8080/"
        },
        "id": "KvDxg2UzSnQy",
        "outputId": "d14c88d8-2979-4482-e851-415bd070d391"
      },
      "execution_count": null,
      "outputs": [
        {
          "output_type": "stream",
          "name": "stdout",
          "text": [
            "['Physics', 'Math', 'history']\n"
          ]
        }
      ]
    },
    {
      "cell_type": "code",
      "source": [
        "sample_dict={\n",
        "    \"Physics\":82,\n",
        "    \"Math\":65,\n",
        "    \"History\":75}\n",
        "value_list=list(sample_dict.values())\n",
        "print(value_list)"
      ],
      "metadata": {
        "colab": {
          "base_uri": "https://localhost:8080/"
        },
        "id": "yY-F5iTVTLQf",
        "outputId": "acde811a-01f2-4ff5-dd40-dd6eba6092bf"
      },
      "execution_count": null,
      "outputs": [
        {
          "output_type": "stream",
          "name": "stdout",
          "text": [
            "[82, 65, 75]\n"
          ]
        }
      ]
    },
    {
      "cell_type": "code",
      "source": [
        "sample_dict={\n",
        "    \"Physics\":82,\n",
        "    \"Math\":65,\n",
        "    \"history\":75\n",
        "}\n",
        "items_list=list(sample_dict.items())\n",
        "print(items_list)"
      ],
      "metadata": {
        "colab": {
          "base_uri": "https://localhost:8080/"
        },
        "id": "H1efHnLVUAhv",
        "outputId": "d8b8c0b3-5356-4bb9-def1-8591693e7176"
      },
      "execution_count": null,
      "outputs": [
        {
          "output_type": "stream",
          "name": "stdout",
          "text": [
            "[('Physics', 82), ('Math', 65), ('history', 75)]\n"
          ]
        }
      ]
    },
    {
      "cell_type": "code",
      "source": [
        "#T.2 Get sum of all the values in a dict\n",
        "\n",
        "# Input:\n",
        "sample_dict = {\n",
        "    'Physics': 82,\n",
        "    'Math': 65,\n",
        "    'history': 75,\n",
        "    'chemistry': 89,\n",
        "    'GK': 50\n",
        "\n",
        "}\n",
        "value_sum=sum(sample_dict.values())\n",
        "print(\"The sum of values is:\" ,value_sum)"
      ],
      "metadata": {
        "colab": {
          "base_uri": "https://localhost:8080/"
        },
        "id": "cUKpO6vGVdco",
        "outputId": "c4ea187b-0fa2-436a-b137-2a53300d6f69"
      },
      "execution_count": null,
      "outputs": [
        {
          "output_type": "stream",
          "name": "stdout",
          "text": [
            "The sum of values is: 361\n"
          ]
        }
      ]
    },
    {
      "cell_type": "code",
      "source": [
        "#T.3 Get the key of a minimum value from the following dictionary\n",
        "\n",
        "# Input:\n",
        "sample_dict = {\n",
        "  'Physics': 82,\n",
        "  'Math': 65,\n",
        "  'history': 75\n",
        "}\n",
        "\n",
        "# Expected Output: Math"
      ],
      "metadata": {
        "id": "jDKryJrqYI7U"
      },
      "execution_count": null,
      "outputs": []
    },
    {
      "cell_type": "code",
      "source": [
        "sample_dict = {\n",
        "  'Physics': 82,\n",
        "  'Math': 65,\n",
        "  'history': 75\n",
        "}\n",
        "min_value_key=min(sample_dict,key=sample_dict.get)\n",
        "print(min_value_key)"
      ],
      "metadata": {
        "colab": {
          "base_uri": "https://localhost:8080/"
        },
        "id": "zciMaGJSYRMK",
        "outputId": "ad4b271f-7383-473e-e7bf-50290fc46eac"
      },
      "execution_count": null,
      "outputs": [
        {
          "output_type": "stream",
          "name": "stdout",
          "text": [
            "Math\n"
          ]
        }
      ]
    },
    {
      "cell_type": "code",
      "source": [
        "min_value=sample_dict[min_value_key]\n",
        "print(min_value)"
      ],
      "metadata": {
        "colab": {
          "base_uri": "https://localhost:8080/"
        },
        "id": "hLElvXZcao7T",
        "outputId": "4ca2dd37-02ea-48d7-a14e-7e0eea010c8e"
      },
      "execution_count": null,
      "outputs": [
        {
          "output_type": "stream",
          "name": "stdout",
          "text": [
            "65\n"
          ]
        }
      ]
    },
    {
      "cell_type": "code",
      "source": [
        "#4.T.4 Delete a list of keys from a dictionary\n",
        "sample_dict = {\n",
        "    \"name\": \"Khalid\",\n",
        "    \"age\": 23,\n",
        "    \"salary\": 1000,\n",
        "    \"city\": \"Baku\"\n",
        "}\n",
        "\n",
        "# Keys to remove\n",
        "keys = [\"name\", \"salary\"]\n",
        "\n",
        "# Expected Output: {'city': 'Baku', 'age': 23}\n"
      ],
      "metadata": {
        "id": "hZmBsvYY4r4w"
      },
      "execution_count": null,
      "outputs": []
    },
    {
      "cell_type": "code",
      "source": [
        "sample_dict = {\n",
        "    \"name\": \"Khalid\",\n",
        "    \"age\": 23,\n",
        "    \"salary\": 1000,\n",
        "    \"city\": \"Baku\"\n",
        "}\n",
        "sample_dict.pop(\"salary\")\n",
        "sample_dict.pop(\"name\")\n",
        "print(sample_dict)"
      ],
      "metadata": {
        "colab": {
          "base_uri": "https://localhost:8080/"
        },
        "id": "Cl20QjQdhC1o",
        "outputId": "61aca158-9877-4e49-e707-62f53a6e0ce7"
      },
      "execution_count": 5,
      "outputs": [
        {
          "output_type": "stream",
          "name": "stdout",
          "text": [
            "{'age': 23, 'city': 'Baku'}\n"
          ]
        }
      ]
    },
    {
      "cell_type": "code",
      "source": [
        "# 5.T.5.Create a dictionary by extracting the keys from a given dictionary\n",
        "\n",
        "# Inputs:\n",
        "sample_dict = {\n",
        "    \"name\": \"Khalid\",\n",
        "    \"age\": 23,\n",
        "    \"salary\": 1000,\n",
        "    \"city\": \"Baku\"}\n",
        "\n",
        "# Keys to extract\n",
        "keys = [\"name\", \"salary\"]\n",
        "\n",
        "# Expected Output: {'name': 'Khalid', 'salary': 1000}"
      ],
      "metadata": {
        "id": "HP49lCMwjmxW"
      },
      "execution_count": null,
      "outputs": []
    },
    {
      "cell_type": "code",
      "source": [
        "sample_dict = {\n",
        "    \"name\": \"Khalid\",\n",
        "    \"age\": 23,\n",
        "    \"salary\": 1000,\n",
        "    \"city\": \"Baku\"}\n",
        "sample_dict.pop(\"age\")\n",
        "sample_dict.pop(\"city\")\n",
        "print(sample_dict)"
      ],
      "metadata": {
        "colab": {
          "base_uri": "https://localhost:8080/"
        },
        "id": "eiDeAUzuj8Yb",
        "outputId": "a630316f-b469-48a0-ab7e-78fa62d726b1"
      },
      "execution_count": 6,
      "outputs": [
        {
          "output_type": "stream",
          "name": "stdout",
          "text": [
            "{'name': 'Khalid', 'salary': 1000}\n"
          ]
        }
      ]
    },
    {
      "cell_type": "code",
      "source": [
        "# 7.Print multiplication table of 24 using loop.\n",
        "number=24\n",
        "for i in range(1,10):\n",
        "  mult=number*i\n",
        "  print(f\"{number}x{i}={mult}\")\n"
      ],
      "metadata": {
        "colab": {
          "base_uri": "https://localhost:8080/"
        },
        "id": "KRVCbz91wcMH",
        "outputId": "78b994a9-bd8b-4d1e-934c-61993a0ec638"
      },
      "execution_count": 6,
      "outputs": [
        {
          "output_type": "stream",
          "name": "stdout",
          "text": [
            "24x1=24\n",
            "24x2=48\n",
            "24x3=72\n",
            "24x4=96\n",
            "24x5=120\n",
            "24x6=144\n",
            "24x7=168\n",
            "24x8=192\n",
            "24x9=216\n"
          ]
        }
      ]
    },
    {
      "cell_type": "code",
      "source": [
        "#9.Write a program that calculates the sum of the digits of a given number. Ask the user to input a number\n",
        "\n",
        "number = input(\"Enter number: \")\n",
        "digit_sum = sum(int(digit) for digit in number if digit.isdigit())\n",
        "\n",
        "print(\"sum of digits:\", digit_sum)"
      ],
      "metadata": {
        "colab": {
          "base_uri": "https://localhost:8080/"
        },
        "id": "C5KehuHIzRPR",
        "outputId": "7f916eb0-d36c-4cb1-8373-e3baa332a9fa"
      },
      "execution_count": 7,
      "outputs": [
        {
          "output_type": "stream",
          "name": "stdout",
          "text": [
            "Enter number: 47365843758\n",
            "sum of digits: 60\n"
          ]
        }
      ]
    },
    {
      "cell_type": "code",
      "source": [
        "# 10 Write a Python program that takes a string input from the user and counts the number of characters in the string.\n",
        "\n",
        "words=input(\"words: \")\n",
        "number_of_character=len(words)\n",
        "print(\"Number of character: \",number_of_character)"
      ],
      "metadata": {
        "colab": {
          "base_uri": "https://localhost:8080/"
        },
        "id": "Ak2gz3fHz_lV",
        "outputId": "a9cc6553-f654-4ac3-fb66-f874883c4d33"
      },
      "execution_count": 9,
      "outputs": [
        {
          "output_type": "stream",
          "name": "stdout",
          "text": [
            "words: ehyfherbvfhvb\n",
            "Number of character:  13\n"
          ]
        }
      ]
    }
  ]
}